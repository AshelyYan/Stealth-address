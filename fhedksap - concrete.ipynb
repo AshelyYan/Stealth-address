{
 "cells": [
  {
   "cell_type": "code",
   "execution_count": 24,
   "id": "06f3c8e7",
   "metadata": {},
   "outputs": [
    {
     "name": "stdout",
     "output_type": "stream",
     "text": [
      "Compiling...\n",
      "Generating keys...\n",
      "Evaluation of 5220456817807203 + 1127082542524976 homomorphically = 6347539360332179\n",
      "Evaluation of 6293931188842148 + 4652903054538174 homomorphically = 10946834243380322\n",
      "Evaluation of 8307529848956589 + 7251555794239547 homomorphically = 15559085643196136\n",
      "Evaluation of 5801522381692954 + 1936806542785690 homomorphically = 7738328924478644\n",
      "Evaluation of 882047645892 + 9829852284100 homomorphically = 10711899929992\n"
     ]
    },
    {
     "data": {
      "text/plain": [
       "107118999299927738328924478645555908564319613709468342433803226347539360332179"
      ]
     },
     "execution_count": 24,
     "metadata": {},
     "output_type": "execute_result"
    }
   ],
   "source": [
    "from concrete import fhe\n",
    "\n",
    "def add(x, y):\n",
    "    return x + y\n",
    "\n",
    "compiler = fhe.Compiler(add, {\"x\": \"encrypted\", \"y\": \"encrypted\"})\n",
    "inputset = [(2**56, 0x7d004cf63)]\n",
    "\n",
    "print(f\"Compiling...\")\n",
    "circuit = compiler.compile(inputset)\n",
    "\n",
    "print(f\"Generating keys...\")\n",
    "circuit.keygen()\n",
    "\n",
    "def split(a):\n",
    "    return [int(str(a)[::-1][i*16:(i+1)*16][::-1]) for i in range(-(-len(str(a))//16))]\n",
    "def bind_split(a,b):\n",
    "    return list(zip(a+[0]*(max(len(a), len(b))-len(a)), b+[0]*(max(len(a), len(b))-len(b))))\n",
    "def combine(l):\n",
    "    return sum([l[i]*(10**(16*i)) for i in range(len(l))])\n",
    "\n",
    "a = 0x13803677559c049a98a1576ad2f1fd15bdd9f81886f225c0850e883bd7d4cf63\n",
    "b = 0xd952fe0740d9d14011fc8ead3ab7de3c739d3aa93ce9254c10b0134d80d26a30\n",
    "\n",
    "\n",
    "examples = bind_split(split(a), split(b))\n",
    "result_list = []\n",
    "for example in examples:\n",
    "    encrypted_example = circuit.encrypt(*example)\n",
    "    encrypted_result = circuit.run(encrypted_example)\n",
    "    result = circuit.decrypt(encrypted_result)\n",
    "    result_list.append(result)\n",
    "    print(f\"Evaluation of {' + '.join(map(str, example))} homomorphically = {result}\")\n",
    "combine(result_list)"
   ]
  },
  {
   "cell_type": "code",
   "execution_count": 25,
   "id": "dda9a18b",
   "metadata": {},
   "outputs": [
    {
     "data": {
      "text/plain": [
       "True"
      ]
     },
     "execution_count": 25,
     "metadata": {},
     "output_type": "execute_result"
    }
   ],
   "source": [
    "a+b == combine(result_list)"
   ]
  },
  {
   "cell_type": "code",
   "execution_count": null,
   "id": "1668e1fe",
   "metadata": {},
   "outputs": [],
   "source": []
  }
 ],
 "metadata": {
  "kernelspec": {
   "display_name": "Python 3 (ipykernel)",
   "language": "python",
   "name": "python3"
  },
  "language_info": {
   "codemirror_mode": {
    "name": "ipython",
    "version": 3
   },
   "file_extension": ".py",
   "mimetype": "text/x-python",
   "name": "python",
   "nbconvert_exporter": "python",
   "pygments_lexer": "ipython3",
   "version": "3.11.2"
  }
 },
 "nbformat": 4,
 "nbformat_minor": 5
}
